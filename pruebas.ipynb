{
 "cells": [
  {
   "cell_type": "code",
   "execution_count": 2,
   "metadata": {},
   "outputs": [],
   "source": [
    "import numpy as np"
   ]
  },
  {
   "cell_type": "code",
   "execution_count": 509,
   "metadata": {},
   "outputs": [],
   "source": [
    "class Ship:\n",
    "    def __init__(self, size):\n",
    "        self.row = np.random.randint(10)\n",
    "        self.col = np.random.randint(10)\n",
    "        self.size = size\n",
    "        self.orientation = np.random.choice(['h', 'v'])\n",
    "        self.indexes = self.compute_indexes()\n",
    "\n",
    "    def compute_indexes(self):\n",
    "        start_index = [self.row, self.col]\n",
    "        while True:\n",
    "            if self.orientation == 'h' and (self.col + self.size <= 9):\n",
    "                return [(self.row, self.col + i) for i in range(self.size)]\n",
    "                break\n",
    "            \n",
    "            elif self.orientation == 'v' and (self.row + self.size <= 9):\n",
    "                return [(self.row + i, self.col) for i in range(self.size)]\n",
    "                break\n",
    "\n",
    "            else:\n",
    "                self.row = np.random.randint(10)\n",
    "                self.col = np.random.randint(10)\n",
    "                self.orientation = np.random.choice(['h', 'v'])\n",
    "            \n",
    "\n",
    "class Player:\n",
    "    def __init__(self):\n",
    "        self.ships = []\n",
    "        #self.search = [\"U\" for i in range(100)] # U: Unknown, M: Miss, H: Hit -- Unused\n",
    "        self.place_ships(sizes = [4, 3, 3, 2, 2, 2, 1, 1, 1, 1])\n",
    "\n",
    "    def place_ships(self, sizes):\n",
    "        for size in sizes:\n",
    "            uncolocated = True\n",
    "            while uncolocated:\n",
    "                ship = Ship(size)\n",
    "\n",
    "                if len(self.ships) == 0:\n",
    "                    self.ships.append(ship.indexes)\n",
    "                    uncolocated = False\n",
    "                    break\n",
    "                \n",
    "                else:\n",
    "                    for (i, j) in ship.indexes:\n",
    "                        is_overlap = any((i, j) in existing_ship for existing_ship in self.ships)\n",
    "                        if is_overlap:\n",
    "                                break\n",
    "                            \n",
    "                        in_sorroundings = any((i + 1, j) in existing_ship or (i - 1, j) in existing_ship or \\\n",
    "                                            (i, j + 1) in existing_ship or (i, j - 1) in existing_ship for \\\n",
    "                                                existing_ship in self.ships)\n",
    "                        if in_sorroundings:\n",
    "                            break\n",
    "\n",
    "                        in_diagonals = any((i + 1, j + 1) in existing_ship or (i - 1, j - 1) in existing_ship or \\\n",
    "                                                (i + 1, j - 1) in existing_ship or (i - 1, j + 1) in existing_ship for \\\n",
    "                                                    existing_ship in self.ships)\n",
    "                        \n",
    "                        if in_diagonals:\n",
    "                            break\n",
    "\n",
    "                    else:\n",
    "                        self.ships.append(ship.indexes)\n",
    "                        uncolocated = False"
   ]
  },
  {
   "cell_type": "code",
   "execution_count": 542,
   "metadata": {},
   "outputs": [
    {
     "name": "stdout",
     "output_type": "stream",
     "text": [
      "[[(6, 5), (6, 6), (6, 7), (6, 8)], [(4, 4), (4, 5), (4, 6)], [(0, 2), (0, 3), (0, 4)], [(7, 0), (8, 0)], [(3, 1), (3, 2)], [(6, 3), (7, 3)], [(9, 6)], [(0, 6)], [(0, 8)], [(9, 3)]]\n",
      "10\n",
      "[[' ' ' ' 'X' 'X' 'X' ' ' 'X' ' ' 'X' ' ']\n",
      " [' ' ' ' ' ' ' ' ' ' ' ' ' ' ' ' ' ' ' ']\n",
      " [' ' ' ' ' ' ' ' ' ' ' ' ' ' ' ' ' ' ' ']\n",
      " [' ' 'X' 'X' ' ' ' ' ' ' ' ' ' ' ' ' ' ']\n",
      " [' ' ' ' ' ' ' ' 'X' 'X' 'X' ' ' ' ' ' ']\n",
      " [' ' ' ' ' ' ' ' ' ' ' ' ' ' ' ' ' ' ' ']\n",
      " [' ' ' ' ' ' 'X' ' ' 'X' 'X' 'X' 'X' ' ']\n",
      " ['X' ' ' ' ' 'X' ' ' ' ' ' ' ' ' ' ' ' ']\n",
      " ['X' ' ' ' ' ' ' ' ' ' ' ' ' ' ' ' ' ' ']\n",
      " [' ' ' ' ' ' 'X' ' ' ' ' 'X' ' ' ' ' ' ']]\n"
     ]
    }
   ],
   "source": [
    "player_1 = Player()\n",
    "print(player_1.ships)\n",
    "print(len(player_1.ships))\n",
    "board = np.full((10, 10), \" \")\n",
    "for i in player_1.ships:\n",
    "    for j in i:\n",
    "        board[j] = \"X\"\n",
    "\n",
    "print(board)"
   ]
  },
  {
   "cell_type": "code",
   "execution_count": 498,
   "metadata": {},
   "outputs": [
    {
     "name": "stdout",
     "output_type": "stream",
     "text": [
      "[[(8, 1), (8, 2), (8, 3), (8, 4)], [(4, 2), (4, 3), (4, 4)], [(2, 6), (2, 7), (2, 8)], [(4, 7), (5, 7)], [(2, 3), (2, 4)], [(9, 7), (9, 8)], [(7, 6)], [(7, 8)], [(4, 0)], [(0, 3)]]\n",
      "10\n",
      "[[' ' ' ' ' ' ' ' ' ' ' ' ' ' ' ' ' ' ' ']\n",
      " [' ' ' ' ' ' ' ' ' ' ' ' ' ' ' ' ' ' ' ']\n",
      " [' ' ' ' ' ' ' ' ' ' ' ' ' ' ' ' ' ' ' ']\n",
      " [' ' ' ' ' ' ' ' ' ' ' ' ' ' ' ' ' ' ' ']\n",
      " [' ' ' ' ' ' ' ' ' ' ' ' ' ' ' ' ' ' ' ']\n",
      " [' ' ' ' ' ' ' ' ' ' ' ' ' ' ' ' ' ' ' ']\n",
      " [' ' ' ' ' ' ' ' ' ' ' ' ' ' ' ' ' ' ' ']\n",
      " [' ' ' ' ' ' ' ' ' ' ' ' ' ' ' ' ' ' ' ']\n",
      " [' ' ' ' ' ' ' ' ' ' ' ' ' ' ' ' ' ' ' ']\n",
      " [' ' ' ' ' ' ' ' ' ' ' ' ' ' ' ' ' ' ' ']]\n",
      "\n",
      "\n",
      "[[' ' ' ' ' ' 'X' ' ' ' ' ' ' ' ' ' ' ' ']\n",
      " [' ' ' ' ' ' ' ' ' ' ' ' ' ' ' ' ' ' ' ']\n",
      " [' ' ' ' ' ' 'X' 'X' ' ' 'X' 'X' 'X' ' ']\n",
      " [' ' ' ' ' ' ' ' ' ' ' ' ' ' ' ' ' ' ' ']\n",
      " ['X' ' ' 'X' 'X' 'X' ' ' ' ' 'X' ' ' ' ']\n",
      " [' ' ' ' ' ' ' ' ' ' ' ' ' ' 'X' ' ' ' ']\n",
      " [' ' ' ' ' ' ' ' ' ' ' ' ' ' ' ' ' ' ' ']\n",
      " [' ' ' ' ' ' ' ' ' ' ' ' 'X' ' ' 'X' ' ']\n",
      " [' ' 'X' 'X' 'X' 'X' ' ' ' ' ' ' ' ' ' ']\n",
      " [' ' ' ' ' ' ' ' ' ' ' ' ' ' 'X' 'X' ' ']]\n"
     ]
    }
   ],
   "source": [
    "ships = []\n",
    "board = np.full((10, 10), \" \")\n",
    "search = [\"U\" for i in range(100)] # U: Unknown, M: Miss, H: Hit\n",
    "sizes = [4, 3, 3, 2, 2, 2, 1, 1, 1, 1] #3, 2, 2, 2, 1, 1, 1, 1\n",
    "\n",
    "for size in sizes:\n",
    "    uncolocated = True\n",
    "    while uncolocated:\n",
    "        ship = Ship(size)\n",
    "\n",
    "        if len(ships) == 0:\n",
    "            ships.append(ship.indexes)\n",
    "            uncolocated = False\n",
    "            break\n",
    "        \n",
    "        else:\n",
    "            for (i, j) in ship.indexes:\n",
    "                is_overlap = any((i, j) in existing_ship for existing_ship in ships)\n",
    "                if is_overlap:\n",
    "                    break\n",
    "                \n",
    "                in_sorroundings = any((i + 1, j) in existing_ship or (i - 1, j) in existing_ship or \\\n",
    "                                      (i, j + 1) in existing_ship or (i, j - 1) in existing_ship for \\\n",
    "                                        existing_ship in ships)\n",
    "                if in_sorroundings:\n",
    "                    break\n",
    "\n",
    "                in_diagonals = any((i + 1, j + 1) in existing_ship or (i - 1, j - 1) in existing_ship or \\\n",
    "                                        (i + 1, j - 1) in existing_ship or (i - 1, j + 1) in existing_ship for \\\n",
    "                                            existing_ship in ships)\n",
    "                \n",
    "                if in_diagonals:\n",
    "                    break\n",
    "\n",
    "            else:\n",
    "                ships.append(ship.indexes)\n",
    "                uncolocated = False\n",
    "            \n",
    "        \n",
    "\n",
    "print(ships)\n",
    "print(len(ships))\n",
    "print(board)\n",
    "print(\"\\n\")\n",
    "for i in ships:\n",
    "     for j in i:\n",
    "        board[j] = \"X\"\n",
    "print(board)"
   ]
  },
  {
   "cell_type": "code",
   "execution_count": null,
   "metadata": {},
   "outputs": [],
   "source": [
    "print(len(ships))\n",
    "print(board)\n",
    "print(\"\\n\")\n",
    "for i in ships:\n",
    "     for j in i:\n",
    "        board[j] = \"X\"\n"
   ]
  },
  {
   "cell_type": "code",
   "execution_count": null,
   "metadata": {},
   "outputs": [],
   "source": [
    "print(board)"
   ]
  },
  {
   "cell_type": "code",
   "execution_count": 543,
   "metadata": {},
   "outputs": [
    {
     "data": {
      "text/plain": [
       "[[(6, 5), (6, 6), (6, 7), (6, 8)],\n",
       " [(4, 4), (4, 5), (4, 6)],\n",
       " [(0, 2), (0, 3), (0, 4)],\n",
       " [(7, 0), (8, 0)],\n",
       " [(3, 1), (3, 2)],\n",
       " [(6, 3), (7, 3)],\n",
       " [(9, 6)],\n",
       " [(0, 6)],\n",
       " [(0, 8)],\n",
       " [(9, 3)]]"
      ]
     },
     "execution_count": 543,
     "metadata": {},
     "output_type": "execute_result"
    }
   ],
   "source": [
    "player_1.ships"
   ]
  },
  {
   "cell_type": "code",
   "execution_count": 545,
   "metadata": {},
   "outputs": [],
   "source": [
    "player_1.ships[0].remove((6, 6))"
   ]
  },
  {
   "cell_type": "code",
   "execution_count": 549,
   "metadata": {},
   "outputs": [
    {
     "data": {
      "text/plain": [
       "[(4, 4), (4, 5), (4, 6)]"
      ]
     },
     "execution_count": 549,
     "metadata": {},
     "output_type": "execute_result"
    }
   ],
   "source": [
    "player_1.ships[1]"
   ]
  },
  {
   "cell_type": "code",
   "execution_count": 553,
   "metadata": {},
   "outputs": [
    {
     "data": {
      "text/plain": [
       "[(4, 5)]"
      ]
     },
     "execution_count": 553,
     "metadata": {},
     "output_type": "execute_result"
    }
   ],
   "source": [
    "removed_positions = []\n",
    "removed_positions.append(player_1.ships[1].pop(player_1.ships[1].index((4, 5))))\n",
    "removed_positions"
   ]
  },
  {
   "cell_type": "code",
   "execution_count": 554,
   "metadata": {},
   "outputs": [
    {
     "data": {
      "text/plain": [
       "[(4, 5)]"
      ]
     },
     "execution_count": 554,
     "metadata": {},
     "output_type": "execute_result"
    }
   ],
   "source": [
    "removed_positions"
   ]
  },
  {
   "cell_type": "code",
   "execution_count": null,
   "metadata": {},
   "outputs": [],
   "source": [
    "def make_move(self, row, col):\n",
    "        player = self.player_1 if self.player_1_turn else self.player_2\n",
    "        opponent = self.player_2 if self.player_1_turn else self.player_1\n",
    "        removed_positions = self.player_removed_positions if self.player_1_turn else self.player_2_removed_positions\n",
    "\n",
    "\n",
    "        for ship in opponent.ships:\n",
    "            if (row, col) in ship:\n",
    "                removed_positions.append(ship.pop(ship.index((row, col))))\n",
    "                if len(ship) == 0:\n",
    "                    opponent.ships.remove(ship)\n",
    "                    if len(opponent.ships) == 0:\n",
    "                        self.over = True\n",
    "                        return \"W\"\n",
    "                    return \"S\"\n",
    "                return \"H\"\n",
    "            \n",
    "            else:\n",
    "                self.player_1_turn = not self.player_1_turn\n",
    "                return \"M\""
   ]
  },
  {
   "cell_type": "code",
   "execution_count": 10,
   "metadata": {},
   "outputs": [],
   "source": [
    "import numpy as np\n",
    "\n",
    "class Ship:\n",
    "    def __init__(self, size):\n",
    "        self.row = np.random.randint(10)\n",
    "        self.col = np.random.randint(10)\n",
    "        self.size = size\n",
    "        self.orientation = np.random.choice(['h', 'v'])\n",
    "        self.indexes = self.compute_indexes()\n",
    "\n",
    "    def compute_indexes(self):\n",
    "        start_index = [self.row, self.col]\n",
    "        while True:\n",
    "            if self.orientation == 'h' and (self.col + self.size <= 9):\n",
    "                return [(self.row, self.col + i) for i in range(self.size)]\n",
    "                break\n",
    "            \n",
    "            elif self.orientation == 'v' and (self.row + self.size <= 9):\n",
    "                return [(self.row + i, self.col) for i in range(self.size)]\n",
    "                break\n",
    "\n",
    "            else:\n",
    "                self.row = np.random.randint(10)\n",
    "                self.col = np.random.randint(10)\n",
    "                self.orientation = np.random.choice(['h', 'v'])\n",
    "            \n",
    "\n",
    "class Player:\n",
    "    def __init__(self):\n",
    "        self.ships = []\n",
    "        #self.search = [\"U\" for i in range(100)] # U: Unknown, M: Miss, H: Hit -- Unused\n",
    "        self.place_ships(sizes = [4, 3, 3, 2, 2, 2, 1, 1, 1, 1])\n",
    "\n",
    "    def place_ships(self, sizes):\n",
    "        for size in sizes:\n",
    "            uncolocated = True\n",
    "            while uncolocated:\n",
    "                ship = Ship(size)\n",
    "\n",
    "                if len(self.ships) == 0:\n",
    "                    self.ships.append(ship.indexes)\n",
    "                    uncolocated = False\n",
    "                    break\n",
    "                \n",
    "                else:\n",
    "                    for (i, j) in ship.indexes:\n",
    "                        is_overlap = any((i, j) in existing_ship for existing_ship in self.ships)\n",
    "                        if is_overlap:\n",
    "                                break\n",
    "                            \n",
    "                        in_sorroundings = any((i + 1, j) in existing_ship or (i - 1, j) in existing_ship or \\\n",
    "                                            (i, j + 1) in existing_ship or (i, j - 1) in existing_ship for \\\n",
    "                                                existing_ship in self.ships)\n",
    "                        if in_sorroundings:\n",
    "                            break\n",
    "\n",
    "                        in_diagonals = any((i + 1, j + 1) in existing_ship or (i - 1, j - 1) in existing_ship or \\\n",
    "                                                (i + 1, j - 1) in existing_ship or (i - 1, j + 1) in existing_ship for \\\n",
    "                                                    existing_ship in self.ships)\n",
    "                        \n",
    "                        if in_diagonals:\n",
    "                            break\n",
    "\n",
    "                    else:\n",
    "                        self.ships.append(ship.indexes)\n",
    "                        uncolocated = False\n",
    "\n",
    "class Game:\n",
    "    def __init__(self):\n",
    "        self.player_1 = Player()\n",
    "        self.player_2 = Player()\n",
    "        self.player_1_turn = True\n",
    "        self.over = False\n",
    "        self.player_removed_positions = []\n",
    "        self.player_2_removed_positions = []\n",
    "\n",
    "    def make_move(self, row, col):\n",
    "        player = self.player_1 if self.player_1_turn else self.player_2\n",
    "        opponent = self.player_2 if self.player_1_turn else self.player_1\n",
    "        removed_positions = self.player_removed_positions if self.player_1_turn else self.player_2_removed_positions\n",
    "\n",
    "\n",
    "        for ship in opponent.ships:\n",
    "            if (row, col) in ship:\n",
    "                removed_positions.append(ship.pop(ship.index((row, col))))\n",
    "                if len(ship) == 0:\n",
    "                    opponent.ships.remove(ship)\n",
    "                    if len(opponent.ships) == 0:\n",
    "                        self.over = True\n",
    "                        return \"W\"\n",
    "                    return \"S\"\n",
    "                return \"H\"\n",
    "            \n",
    "            else:\n",
    "                self.player_1_turn = not self.player_1_turn\n",
    "                return \"M\""
   ]
  },
  {
   "cell_type": "code",
   "execution_count": 557,
   "metadata": {},
   "outputs": [],
   "source": [
    "import time"
   ]
  },
  {
   "cell_type": "code",
   "execution_count": 572,
   "metadata": {},
   "outputs": [
    {
     "name": "stdout",
     "output_type": "stream",
     "text": [
      "False\n",
      "False\n",
      "\n",
      "\n"
     ]
    }
   ],
   "source": [
    "juego = Game()\n",
    "juego.make_move(np.random.randint(10), np.random.randint(10))\n",
    "print(juego.player_1_turn)\n",
    "print(juego.over)\n",
    "print(\"\\n\")"
   ]
  },
  {
   "cell_type": "code",
   "execution_count": 562,
   "metadata": {},
   "outputs": [
    {
     "data": {
      "text/plain": [
       "5"
      ]
     },
     "execution_count": 562,
     "metadata": {},
     "output_type": "execute_result"
    }
   ],
   "source": [
    "np.random.randint(10)"
   ]
  },
  {
   "cell_type": "code",
   "execution_count": 1,
   "metadata": {},
   "outputs": [],
   "source": [
    "import numpy as np\n",
    "\n",
    "BOARD_SIZE = 10\n",
    "NUM_ACTIONS = BOARD_SIZE * BOARD_SIZE\n",
    "NUM_STATES = 2  # Number of possible states (player 1's turn or player 2's turn)\n",
    "\n",
    "# Initialize Q-table\n",
    "Q_table = np.zeros((NUM_STATES, NUM_ACTIONS))"
   ]
  },
  {
   "cell_type": "code",
   "execution_count": 4,
   "metadata": {},
   "outputs": [
    {
     "name": "stdout",
     "output_type": "stream",
     "text": [
      "[[0. 0. 0. 0. 0. 0. 0. 0. 0. 0. 0. 0. 0. 0. 0. 0. 0. 0. 0. 0. 0. 0. 0. 0.\n",
      "  0. 0. 0. 0. 0. 0. 0. 0. 0. 0. 0. 0. 0. 0. 0. 0. 0. 0. 0. 0. 0. 0. 0. 0.\n",
      "  0. 0. 0. 0. 0. 0. 0. 0. 0. 0. 0. 0. 0. 0. 0. 0. 0. 0. 0. 0. 0. 0. 0. 0.\n",
      "  0. 0. 0. 0. 0. 0. 0. 0. 0. 0. 0. 0. 0. 0. 0. 0. 0. 0. 0. 0. 0. 0. 0. 0.\n",
      "  0. 0. 0. 0.]\n",
      " [0. 0. 0. 0. 0. 0. 0. 0. 0. 0. 0. 0. 0. 0. 0. 0. 0. 0. 0. 0. 0. 0. 0. 0.\n",
      "  0. 0. 0. 0. 0. 0. 0. 0. 0. 0. 0. 0. 0. 0. 0. 0. 0. 0. 0. 0. 0. 0. 0. 0.\n",
      "  0. 0. 0. 0. 0. 0. 0. 0. 0. 0. 0. 0. 0. 0. 0. 0. 0. 0. 0. 0. 0. 0. 0. 0.\n",
      "  0. 0. 0. 0. 0. 0. 0. 0. 0. 0. 0. 0. 0. 0. 0. 0. 0. 0. 0. 0. 0. 0. 0. 0.\n",
      "  0. 0. 0. 0.]]\n"
     ]
    }
   ],
   "source": [
    "print(Q_table)"
   ]
  },
  {
   "cell_type": "code",
   "execution_count": 14,
   "metadata": {},
   "outputs": [],
   "source": [
    "class QAgent:\n",
    "    BOARD_SIZE = 10\n",
    "    NUM_ACTIONS = BOARD_SIZE * BOARD_SIZE\n",
    "    NUM_STATES = 2  # Number of possible states (player 1's turn or player 2's turn)\n",
    "    Q_table = np.zeros((NUM_STATES, NUM_ACTIONS))\n",
    "\n",
    "    NUM_EPISODES = 1000\n",
    "    LEARNING_RATE = 0.1\n",
    "    DISCOUNT_FACTOR = 0.9\n",
    "   \n",
    "    REWARD_HIT = 1\n",
    "    #REWARD_SINK = 5\n",
    "    REWARD_MISS = -1\n",
    "\n",
    "    def __init__(self):\n",
    "        pass\n",
    "    \n",
    "    def get_state(self, player_1_turn):\n",
    "        return 0 if player_1_turn else 1\n",
    "    \n",
    "    # Function to choose an action (randomly in this example)\n",
    "    def choose_action(self, state):\n",
    "        return np.random.randint(0, self.NUM_ACTIONS - 1)\n",
    "    \n",
    "    def update_Q_table(self, state, action, reward):\n",
    "        self.Q_table[state, action] += reward\n",
    "    \n",
    "    def play_move(self, row, col, player_1_turn):\n",
    "    # Simulate the opponent's ships\n",
    "        opponent_ships = []  # Assume opponent_ships is a list of ship positions\n",
    "        if (row, col) in opponent_ships:\n",
    "            return self.REWARD_HIT\n",
    "        else:\n",
    "            return self.REWARD_MISS\n",
    "\n",
    "    def train_agent(self):\n",
    "        for episode in range(2):\n",
    "        # Reset the game\n",
    "            game = Game()\n",
    "\n",
    "            while not game.over:\n",
    "                state = self.get_state(game.player_1_turn)\n",
    "                action = self.choose_action(state)\n",
    "\n",
    "                # Simulate the move\n",
    "                row = action // BOARD_SIZE\n",
    "                col = action % BOARD_SIZE\n",
    "                reward = self.play_move(row, col, game.player_1_turn)\n",
    "\n",
    "                # Update Q-table\n",
    "                self.update_Q_table(state, action, reward)\n",
    "\n",
    "                # Move to the next state\n",
    "                game.player_1_turn = not game.player_1_turn\n",
    "    \n",
    "    # state = get_state(True)\n",
    "    # action = np.argmax(Q_table[state, :])"
   ]
  },
  {
   "cell_type": "code",
   "execution_count": 15,
   "metadata": {},
   "outputs": [
    {
     "ename": "KeyboardInterrupt",
     "evalue": "",
     "output_type": "error",
     "traceback": [
      "\u001b[1;31m---------------------------------------------------------------------------\u001b[0m",
      "\u001b[1;31mKeyboardInterrupt\u001b[0m                         Traceback (most recent call last)",
      "\u001b[1;32mc:\\Users\\misla\\Documents\\Bootcamp\\Profesor\\HLF\\practical_reinforcement\\hlf_ia\\pruebas.ipynb Cell 20\u001b[0m line \u001b[0;36m2\n\u001b[0;32m      <a href='vscode-notebook-cell:/c%3A/Users/misla/Documents/Bootcamp/Profesor/HLF/practical_reinforcement/hlf_ia/pruebas.ipynb#X25sZmlsZQ%3D%3D?line=0'>1</a>\u001b[0m agent \u001b[39m=\u001b[39m QAgent()\n\u001b[1;32m----> <a href='vscode-notebook-cell:/c%3A/Users/misla/Documents/Bootcamp/Profesor/HLF/practical_reinforcement/hlf_ia/pruebas.ipynb#X25sZmlsZQ%3D%3D?line=1'>2</a>\u001b[0m agent\u001b[39m.\u001b[39;49mtrain_agent()\n",
      "\u001b[1;32mc:\\Users\\misla\\Documents\\Bootcamp\\Profesor\\HLF\\practical_reinforcement\\hlf_ia\\pruebas.ipynb Cell 20\u001b[0m line \u001b[0;36m4\n\u001b[0;32m     <a href='vscode-notebook-cell:/c%3A/Users/misla/Documents/Bootcamp/Profesor/HLF/practical_reinforcement/hlf_ia/pruebas.ipynb#X25sZmlsZQ%3D%3D?line=40'>41</a>\u001b[0m \u001b[39mwhile\u001b[39;00m \u001b[39mnot\u001b[39;00m game\u001b[39m.\u001b[39mover:\n\u001b[0;32m     <a href='vscode-notebook-cell:/c%3A/Users/misla/Documents/Bootcamp/Profesor/HLF/practical_reinforcement/hlf_ia/pruebas.ipynb#X25sZmlsZQ%3D%3D?line=41'>42</a>\u001b[0m     state \u001b[39m=\u001b[39m \u001b[39mself\u001b[39m\u001b[39m.\u001b[39mget_state(game\u001b[39m.\u001b[39mplayer_1_turn)\n\u001b[1;32m---> <a href='vscode-notebook-cell:/c%3A/Users/misla/Documents/Bootcamp/Profesor/HLF/practical_reinforcement/hlf_ia/pruebas.ipynb#X25sZmlsZQ%3D%3D?line=42'>43</a>\u001b[0m     action \u001b[39m=\u001b[39m \u001b[39mself\u001b[39;49m\u001b[39m.\u001b[39;49mchoose_action(state)\n\u001b[0;32m     <a href='vscode-notebook-cell:/c%3A/Users/misla/Documents/Bootcamp/Profesor/HLF/practical_reinforcement/hlf_ia/pruebas.ipynb#X25sZmlsZQ%3D%3D?line=44'>45</a>\u001b[0m     \u001b[39m# Simulate the move\u001b[39;00m\n\u001b[0;32m     <a href='vscode-notebook-cell:/c%3A/Users/misla/Documents/Bootcamp/Profesor/HLF/practical_reinforcement/hlf_ia/pruebas.ipynb#X25sZmlsZQ%3D%3D?line=45'>46</a>\u001b[0m     row \u001b[39m=\u001b[39m action \u001b[39m/\u001b[39m\u001b[39m/\u001b[39m BOARD_SIZE\n",
      "\u001b[1;31mKeyboardInterrupt\u001b[0m: "
     ]
    }
   ],
   "source": [
    "agent = QAgent()\n",
    "agent.train_agent()"
   ]
  },
  {
   "cell_type": "code",
   "execution_count": 16,
   "metadata": {},
   "outputs": [],
   "source": [
    "class QAgent:\n",
    "    board = 10\n",
    "    Num_Actions = 100\n",
    "    num_states = 2\n",
    "\n",
    "    def __init__(self, alpha=0.1, gamma=0.9, epsilon=0.1):\n",
    "        self.q_table = np.zeros((self.board, self.board, self.num_states, self.Num_Actions))\n",
    "        self.alpha = alpha\n",
    "        self.gamma = gamma\n",
    "        self.epsilon = epsilon\n",
    "\n",
    "    def get_action(self, state):\n",
    "        if np.random.uniform() < self.epsilon:\n",
    "            action = np.random.randint(self.Num_Actions)\n",
    "        else:\n",
    "            action = np.argmax(self.q_table[state])\n",
    "        return action\n",
    "    \n",
    "    def update(self, state, action, reward, next_state):\n",
    "        self.q_table[state][action] = (1 - self.alpha) * self.q_table[state][action] + \\\n",
    "            self.alpha * (reward + self.gamma * np.max(self.q_table[next_state]))\n",
    "    \n",
    "    def train(self, num_episodes=1000):\n",
    "        for i in range(num_episodes):\n",
    "            game = Game()\n",
    "            while not game.over:\n",
    "                state = np.random.randint(2)\n",
    "                action = self.get_action(state)\n",
    "                reward = game.make_move(action // 10, action % 10)\n",
    "                next_state = 1 if game.player_1_turn else 0\n",
    "                self.update(state, action, reward, next_state)\n",
    "    \n",
    "    def play(self):\n",
    "        game = Game()\n",
    "        while not game.over:\n",
    "            state = 1 if game.player_1_turn else 0\n",
    "            action = self.get_action(state)\n",
    "            reward = game.make_move(action // 10, action % 10)\n",
    "            next_state = 1 if game.player_1_turn else 0\n",
    "            self.update(state, action, reward, next_state)\n",
    "        return game.player_1_turn\n",
    "    \n",
    "    def save(self, file_name):\n",
    "        np.save(file_name, self.q_table)\n",
    "    \n",
    "    def load(self, file_name):\n",
    "        self.q_table = np.load(file_name)"
   ]
  },
  {
   "cell_type": "code",
   "execution_count": 17,
   "metadata": {},
   "outputs": [
    {
     "ename": "TypeError",
     "evalue": "can only concatenate str (not \"numpy.float64\") to str",
     "output_type": "error",
     "traceback": [
      "\u001b[1;31m---------------------------------------------------------------------------\u001b[0m",
      "\u001b[1;31mTypeError\u001b[0m                                 Traceback (most recent call last)",
      "\u001b[1;32mc:\\Users\\misla\\Documents\\Bootcamp\\Profesor\\HLF\\practical_reinforcement\\hlf_ia\\pruebas.ipynb Cell 22\u001b[0m line \u001b[0;36m1\n\u001b[1;32m----> <a href='vscode-notebook-cell:/c%3A/Users/misla/Documents/Bootcamp/Profesor/HLF/practical_reinforcement/hlf_ia/pruebas.ipynb#X30sZmlsZQ%3D%3D?line=0'>1</a>\u001b[0m QAgent()\u001b[39m.\u001b[39;49mtrain()\n",
      "\u001b[1;32mc:\\Users\\misla\\Documents\\Bootcamp\\Profesor\\HLF\\practical_reinforcement\\hlf_ia\\pruebas.ipynb Cell 22\u001b[0m line \u001b[0;36m3\n\u001b[0;32m     <a href='vscode-notebook-cell:/c%3A/Users/misla/Documents/Bootcamp/Profesor/HLF/practical_reinforcement/hlf_ia/pruebas.ipynb#X30sZmlsZQ%3D%3D?line=28'>29</a>\u001b[0m reward \u001b[39m=\u001b[39m game\u001b[39m.\u001b[39mmake_move(action \u001b[39m/\u001b[39m\u001b[39m/\u001b[39m \u001b[39m10\u001b[39m, action \u001b[39m%\u001b[39m \u001b[39m10\u001b[39m)\n\u001b[0;32m     <a href='vscode-notebook-cell:/c%3A/Users/misla/Documents/Bootcamp/Profesor/HLF/practical_reinforcement/hlf_ia/pruebas.ipynb#X30sZmlsZQ%3D%3D?line=29'>30</a>\u001b[0m next_state \u001b[39m=\u001b[39m \u001b[39m1\u001b[39m \u001b[39mif\u001b[39;00m game\u001b[39m.\u001b[39mplayer_1_turn \u001b[39melse\u001b[39;00m \u001b[39m0\u001b[39m\n\u001b[1;32m---> <a href='vscode-notebook-cell:/c%3A/Users/misla/Documents/Bootcamp/Profesor/HLF/practical_reinforcement/hlf_ia/pruebas.ipynb#X30sZmlsZQ%3D%3D?line=30'>31</a>\u001b[0m \u001b[39mself\u001b[39;49m\u001b[39m.\u001b[39;49mupdate(state, action, reward, next_state)\n",
      "\u001b[1;32mc:\\Users\\misla\\Documents\\Bootcamp\\Profesor\\HLF\\practical_reinforcement\\hlf_ia\\pruebas.ipynb Cell 22\u001b[0m line \u001b[0;36m2\n\u001b[0;32m     <a href='vscode-notebook-cell:/c%3A/Users/misla/Documents/Bootcamp/Profesor/HLF/practical_reinforcement/hlf_ia/pruebas.ipynb#X30sZmlsZQ%3D%3D?line=18'>19</a>\u001b[0m \u001b[39mdef\u001b[39;00m \u001b[39mupdate\u001b[39m(\u001b[39mself\u001b[39m, state, action, reward, next_state):\n\u001b[0;32m     <a href='vscode-notebook-cell:/c%3A/Users/misla/Documents/Bootcamp/Profesor/HLF/practical_reinforcement/hlf_ia/pruebas.ipynb#X30sZmlsZQ%3D%3D?line=19'>20</a>\u001b[0m     \u001b[39mself\u001b[39m\u001b[39m.\u001b[39mq_table[state][action] \u001b[39m=\u001b[39m (\u001b[39m1\u001b[39m \u001b[39m-\u001b[39m \u001b[39mself\u001b[39m\u001b[39m.\u001b[39malpha) \u001b[39m*\u001b[39m \u001b[39mself\u001b[39m\u001b[39m.\u001b[39mq_table[state][action] \u001b[39m+\u001b[39m \\\n\u001b[1;32m---> <a href='vscode-notebook-cell:/c%3A/Users/misla/Documents/Bootcamp/Profesor/HLF/practical_reinforcement/hlf_ia/pruebas.ipynb#X30sZmlsZQ%3D%3D?line=20'>21</a>\u001b[0m         \u001b[39mself\u001b[39m\u001b[39m.\u001b[39malpha \u001b[39m*\u001b[39m (reward \u001b[39m+\u001b[39;49m \u001b[39mself\u001b[39;49m\u001b[39m.\u001b[39;49mgamma \u001b[39m*\u001b[39;49m np\u001b[39m.\u001b[39;49mmax(\u001b[39mself\u001b[39;49m\u001b[39m.\u001b[39;49mq_table[next_state]))\n",
      "\u001b[1;31mTypeError\u001b[0m: can only concatenate str (not \"numpy.float64\") to str"
     ]
    }
   ],
   "source": [
    "QAgent().train()"
   ]
  }
 ],
 "metadata": {
  "kernelspec": {
   "display_name": "Python 3",
   "language": "python",
   "name": "python3"
  },
  "language_info": {
   "codemirror_mode": {
    "name": "ipython",
    "version": 3
   },
   "file_extension": ".py",
   "mimetype": "text/x-python",
   "name": "python",
   "nbconvert_exporter": "python",
   "pygments_lexer": "ipython3",
   "version": "3.9.7"
  }
 },
 "nbformat": 4,
 "nbformat_minor": 2
}
