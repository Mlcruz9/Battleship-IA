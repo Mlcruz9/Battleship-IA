{
 "cells": [
  {
   "cell_type": "code",
   "execution_count": 99,
   "metadata": {},
   "outputs": [],
   "source": [
    "#Create a function that takes a string of decimal numbers and returns the largest possible palindrome number value from the palindrome numbers that can be made with the original numbers in the string\n",
    "\n",
    "def largest_palindrome(S):\n",
    "    #convert string to list of integers\n",
    "    L = [int(i) for i in S]\n",
    "    #sort list\n",
    "    L.sort()\n",
    "    #reverse list\n",
    "    L.reverse()\n",
    "    #find all the palindromes that can be made with the numbers in the list\n",
    "    palindromes = []\n",
    "    for i in range(len(L)):\n",
    "        for j in range(len(L)):\n",
    "            if i != j:\n",
    "                palindromes.append(L[i]*L[j])\n",
    "    #sort palindromes\n",
    "    palindromes.sort()\n",
    "    #reverse palindromes\n",
    "    palindromes.reverse()\n",
    "    #return the largest palindrome\n",
    "    return palindromes[0]\n",
    "\n"
   ]
  },
  {
   "cell_type": "code",
   "execution_count": 100,
   "metadata": {},
   "outputs": [
    {
     "data": {
      "text/plain": [
       "6"
      ]
     },
     "execution_count": 100,
     "metadata": {},
     "output_type": "execute_result"
    }
   ],
   "source": [
    "largest_palindrome(\"123\")"
   ]
  },
  {
   "cell_type": "code",
   "execution_count": 101,
   "metadata": {},
   "outputs": [
    {
     "name": "stdout",
     "output_type": "stream",
     "text": [
      "['1221', '2112']\n"
     ]
    }
   ],
   "source": [
    "def is_palindrome(s):\n",
    "    return s == s[::-1]\n",
    "\n",
    "def find_palindromes(numbers_str):\n",
    "    def generate_palindromes(current, remaining):\n",
    "        if not remaining:\n",
    "            if is_palindrome(current):\n",
    "                palindromes.add(current)\n",
    "            return\n",
    "\n",
    "        for i in range(len(remaining)):\n",
    "            generate_palindromes(current + remaining[i], remaining[:i] + remaining[i + 1:])\n",
    "\n",
    "    numbers_str = ''.join(sorted(numbers_str))\n",
    "    palindromes = set()\n",
    "    generate_palindromes('', numbers_str)\n",
    "    return sorted(list(palindromes))\n",
    "\n",
    "# Example usage:\n",
    "input_str = \"1221\"\n",
    "palindrome_numbers = find_palindromes(input_str)\n",
    "print(palindrome_numbers)\n"
   ]
  },
  {
   "cell_type": "code",
   "execution_count": null,
   "metadata": {},
   "outputs": [],
   "source": [
    "def largest_palindrome_number(numbers_str):\n",
    "    numbers = sorted(list(numbers_str), reverse=True)  # Sort the digits in descending order\n",
    "\n",
    "    # Initialize variables\n",
    "    left = []\n",
    "    middle = []\n",
    "    right = []\n",
    "\n",
    "    for num in numbers:\n",
    "        if len(middle) % 2 == 0:  # If the middle part has an even length\n",
    "            if num >= middle[0]:\n",
    "                middle.insert(0, num)\n",
    "            else:\n",
    "                right.append(num)\n",
    "        else:  # If the middle part has an odd length\n",
    "            if num > middle[0]:\n",
    "                right.append(num)\n",
    "            elif num < middle[0]:\n",
    "                left.append(middle[0])\n",
    "                middle = [num] + middle\n",
    "            else:  # num == middle[0]\n",
    "                left.append(middle[0])\n",
    "                middle.insert(0, num)\n",
    "\n",
    "    # Combine the left, middle, and right parts to form the largest palindrome\n",
    "    largest_palindrome = int(''.join(left + middle + right))\n",
    "\n",
    "    return largest_palindrome\n",
    "\n",
    "# Example usage:\n",
    "input_str = \"39878\"\n",
    "result = largest_palindrome_number(input_str)\n",
    "print(result)  # Output: 898\n"
   ]
  },
  {
   "cell_type": "code",
   "execution_count": 107,
   "metadata": {},
   "outputs": [
    {
     "name": "stdout",
     "output_type": "stream",
     "text": [
      "['1221', '2112']\n"
     ]
    }
   ],
   "source": [
    "print(find_palindromes(\"1221\"))"
   ]
  },
  {
   "cell_type": "code",
   "execution_count": 105,
   "metadata": {},
   "outputs": [
    {
     "ename": "IndexError",
     "evalue": "list index out of range",
     "output_type": "error",
     "traceback": [
      "\u001b[1;31m---------------------------------------------------------------------------\u001b[0m",
      "\u001b[1;31mIndexError\u001b[0m                                Traceback (most recent call last)",
      "\u001b[1;32mc:\\Users\\misla\\Documents\\Bootcamp\\Profesor\\HLF\\practical_reinforcement\\hlf_ia\\pruebas_multiverse.ipynb Cell 5\u001b[0m line \u001b[0;36m3\n\u001b[0;32m     <a href='vscode-notebook-cell:/c%3A/Users/misla/Documents/Bootcamp/Profesor/HLF/practical_reinforcement/hlf_ia/pruebas_multiverse.ipynb#X41sZmlsZQ%3D%3D?line=29'>30</a>\u001b[0m \u001b[39m# Example usage:\u001b[39;00m\n\u001b[0;32m     <a href='vscode-notebook-cell:/c%3A/Users/misla/Documents/Bootcamp/Profesor/HLF/practical_reinforcement/hlf_ia/pruebas_multiverse.ipynb#X41sZmlsZQ%3D%3D?line=30'>31</a>\u001b[0m input_str \u001b[39m=\u001b[39m \u001b[39m\"\u001b[39m\u001b[39m39878\u001b[39m\u001b[39m\"\u001b[39m\n\u001b[1;32m---> <a href='vscode-notebook-cell:/c%3A/Users/misla/Documents/Bootcamp/Profesor/HLF/practical_reinforcement/hlf_ia/pruebas_multiverse.ipynb#X41sZmlsZQ%3D%3D?line=31'>32</a>\u001b[0m result \u001b[39m=\u001b[39m largest_palindrome_number(input_str)\n\u001b[0;32m     <a href='vscode-notebook-cell:/c%3A/Users/misla/Documents/Bootcamp/Profesor/HLF/practical_reinforcement/hlf_ia/pruebas_multiverse.ipynb#X41sZmlsZQ%3D%3D?line=32'>33</a>\u001b[0m \u001b[39mprint\u001b[39m(result)  \u001b[39m# Output: 898\u001b[39;00m\n",
      "\u001b[1;32mc:\\Users\\misla\\Documents\\Bootcamp\\Profesor\\HLF\\practical_reinforcement\\hlf_ia\\pruebas_multiverse.ipynb Cell 5\u001b[0m line \u001b[0;36m1\n\u001b[0;32m      <a href='vscode-notebook-cell:/c%3A/Users/misla/Documents/Bootcamp/Profesor/HLF/practical_reinforcement/hlf_ia/pruebas_multiverse.ipynb#X41sZmlsZQ%3D%3D?line=8'>9</a>\u001b[0m \u001b[39mfor\u001b[39;00m num \u001b[39min\u001b[39;00m numbers:\n\u001b[0;32m     <a href='vscode-notebook-cell:/c%3A/Users/misla/Documents/Bootcamp/Profesor/HLF/practical_reinforcement/hlf_ia/pruebas_multiverse.ipynb#X41sZmlsZQ%3D%3D?line=9'>10</a>\u001b[0m     \u001b[39mif\u001b[39;00m \u001b[39mlen\u001b[39m(middle) \u001b[39m%\u001b[39m \u001b[39m2\u001b[39m \u001b[39m==\u001b[39m \u001b[39m0\u001b[39m:  \u001b[39m# If the middle part has an even length\u001b[39;00m\n\u001b[1;32m---> <a href='vscode-notebook-cell:/c%3A/Users/misla/Documents/Bootcamp/Profesor/HLF/practical_reinforcement/hlf_ia/pruebas_multiverse.ipynb#X41sZmlsZQ%3D%3D?line=10'>11</a>\u001b[0m         \u001b[39mif\u001b[39;00m num \u001b[39m>\u001b[39m\u001b[39m=\u001b[39m middle[\u001b[39m0\u001b[39;49m]:\n\u001b[0;32m     <a href='vscode-notebook-cell:/c%3A/Users/misla/Documents/Bootcamp/Profesor/HLF/practical_reinforcement/hlf_ia/pruebas_multiverse.ipynb#X41sZmlsZQ%3D%3D?line=11'>12</a>\u001b[0m             middle\u001b[39m.\u001b[39minsert(\u001b[39m0\u001b[39m, num)\n\u001b[0;32m     <a href='vscode-notebook-cell:/c%3A/Users/misla/Documents/Bootcamp/Profesor/HLF/practical_reinforcement/hlf_ia/pruebas_multiverse.ipynb#X41sZmlsZQ%3D%3D?line=12'>13</a>\u001b[0m         \u001b[39melse\u001b[39;00m:\n",
      "\u001b[1;31mIndexError\u001b[0m: list index out of range"
     ]
    }
   ],
   "source": [
    "def largest_palindrome_number(numbers_str):\n",
    "    numbers = sorted(list(numbers_str), reverse=True)  # Sort the digits in descending order\n",
    "\n",
    "    # Initialize variables\n",
    "    left = []\n",
    "    middle = []\n",
    "    right = []\n",
    "\n",
    "    for num in numbers:\n",
    "        if len(middle) % 2 == 0:  # If the middle part has an even length\n",
    "            if num >= middle[0]:\n",
    "                middle.insert(0, num)\n",
    "            else:\n",
    "                right.append(num)\n",
    "        else:  # If the middle part has an odd length\n",
    "            if num > middle[0]:\n",
    "                right.append(num)\n",
    "            elif num < middle[0]:\n",
    "                left.append(middle[0])\n",
    "                middle = [num] + middle\n",
    "            else:  # num == middle[0]\n",
    "                left.append(middle[0])\n",
    "                middle.insert(0, num)\n",
    "\n",
    "    # Combine the left, middle, and right parts to form the largest palindrome\n",
    "    largest_palindrome = int(''.join(left + middle + right))\n",
    "\n",
    "    return largest_palindrome\n",
    "\n",
    "# Example usage:\n",
    "input_str = \"39878\"\n",
    "result = largest_palindrome_number(input_str)\n",
    "print(result)  # Output: 898\n"
   ]
  },
  {
   "cell_type": "code",
   "execution_count": null,
   "metadata": {},
   "outputs": [],
   "source": [
    "\n",
    "    #  first try to make string palindrome\n",
    "    while (l < r):\n",
    "        # Replace left and right character by\n",
    "        # maximum of both\n",
    "        if (str[l] != str[r]):\n",
    "            palin[l] = max(str[l], str[r])\n",
    "            palin[r] = max(str[l], str[r])\n",
    "            k = k - 1\n",
    "        l = l + 1\n",
    "        r = r - 1    \n",
    "\n",
    "    # If k is negative then we can't make\n",
    "    # string palindrome\n",
    "    if (k < 0):\n",
    "        print(\"Not possible\")\n",
    "        return \"Not possible\"\n",
    "\n",
    "    l = 0\n",
    "    r = len(str) - 1\n",
    "\n",
    "    while (l <= r):\n",
    "        # At mid character, if K>0 then change\n",
    "        # it to 9\n",
    "        if (l == r):\n",
    "            if (k > 0):\n",
    "                palin[l] = '9'\n",
    "\n",
    "        # If character at lth (same as rth) is\n",
    "        # less than 9\n",
    "        if (palin[l] < '9'):\n",
    "            #If none of them is changed in the\n",
    "            #  previous loop then subtract 2 from K\n",
    "            # and convert both to 9 \n",
    "            if (k >= 2 and palin[l] == str[l] and palin[r] == str[r]):\n",
    "                k -= 2\n",
    "                palin[l] = '9'\n",
    "                palin[r] = '9'\n",
    "\n",
    "            #  If one of them is changed in the previous\n",
    "            #  loop then subtract 1 from K (1 more is\n",
    "            #  subtracted already) and make them 9  \n",
    "            elif (k >= 1 and (palin[l] != str[l] or palin[r] != str[r])):\n",
    "                k = k - 1\n",
    "                palin[l] = '9'\n",
    "                palin[r] = '9'\n",
    "\n",
    "        l = l + 1\n",
    "        r = r - 1\n",
    "\n",
    "    print(''.join(palin))\n",
    "    return ''.join(palin)"
   ]
  },
  {
   "cell_type": "code",
   "execution_count": 108,
   "metadata": {},
   "outputs": [],
   "source": [
    "# "
   ]
  },
  {
   "cell_type": "code",
   "execution_count": 112,
   "metadata": {},
   "outputs": [
    {
     "name": "stdout",
     "output_type": "stream",
     "text": [
      "54345\n"
     ]
    },
    {
     "data": {
      "text/plain": [
       "'54345'"
      ]
     },
     "execution_count": 112,
     "metadata": {},
     "output_type": "execute_result"
    }
   ],
   "source": [
    "maximumPalinUsingKChanges(\"12345\", 2)"
   ]
  },
  {
   "cell_type": "code",
   "execution_count": 113,
   "metadata": {},
   "outputs": [
    {
     "ename": "IndexError",
     "evalue": "string index out of range",
     "output_type": "error",
     "traceback": [
      "\u001b[1;31m---------------------------------------------------------------------------\u001b[0m",
      "\u001b[1;31mIndexError\u001b[0m                                Traceback (most recent call last)",
      "\u001b[1;32mc:\\Users\\misla\\Documents\\Bootcamp\\Profesor\\HLF\\practical_reinforcement\\hlf_ia\\pruebas_multiverse.ipynb Cell 10\u001b[0m line \u001b[0;36m4\n\u001b[0;32m     <a href='vscode-notebook-cell:/c%3A/Users/misla/Documents/Bootcamp/Profesor/HLF/practical_reinforcement/hlf_ia/pruebas_multiverse.ipynb#X46sZmlsZQ%3D%3D?line=44'>45</a>\u001b[0m \u001b[39m# Example usage:\u001b[39;00m\n\u001b[0;32m     <a href='vscode-notebook-cell:/c%3A/Users/misla/Documents/Bootcamp/Profesor/HLF/practical_reinforcement/hlf_ia/pruebas_multiverse.ipynb#X46sZmlsZQ%3D%3D?line=45'>46</a>\u001b[0m N \u001b[39m=\u001b[39m \u001b[39m\"\u001b[39m\u001b[39m4756996574\u001b[39m\u001b[39m\"\u001b[39m\n\u001b[1;32m---> <a href='vscode-notebook-cell:/c%3A/Users/misla/Documents/Bootcamp/Profesor/HLF/practical_reinforcement/hlf_ia/pruebas_multiverse.ipynb#X46sZmlsZQ%3D%3D?line=46'>47</a>\u001b[0m next_palindrome(N)\n",
      "\u001b[1;32mc:\\Users\\misla\\Documents\\Bootcamp\\Profesor\\HLF\\practical_reinforcement\\hlf_ia\\pruebas_multiverse.ipynb Cell 10\u001b[0m line \u001b[0;36m1\n\u001b[0;32m     <a href='vscode-notebook-cell:/c%3A/Users/misla/Documents/Bootcamp/Profesor/HLF/practical_reinforcement/hlf_ia/pruebas_multiverse.ipynb#X46sZmlsZQ%3D%3D?line=11'>12</a>\u001b[0m i \u001b[39m=\u001b[39m \u001b[39mlen\u001b[39m(first_half) \u001b[39m-\u001b[39m \u001b[39m1\u001b[39m\n\u001b[0;32m     <a href='vscode-notebook-cell:/c%3A/Users/misla/Documents/Bootcamp/Profesor/HLF/practical_reinforcement/hlf_ia/pruebas_multiverse.ipynb#X46sZmlsZQ%3D%3D?line=12'>13</a>\u001b[0m \u001b[39mwhile\u001b[39;00m i \u001b[39m>\u001b[39m\u001b[39m=\u001b[39m \u001b[39m0\u001b[39m:\n\u001b[1;32m---> <a href='vscode-notebook-cell:/c%3A/Users/misla/Documents/Bootcamp/Profesor/HLF/practical_reinforcement/hlf_ia/pruebas_multiverse.ipynb#X46sZmlsZQ%3D%3D?line=13'>14</a>\u001b[0m     \u001b[39mif\u001b[39;00m first_half[i] \u001b[39m<\u001b[39m first_half[i \u001b[39m+\u001b[39;49m \u001b[39m1\u001b[39;49m]:\n\u001b[0;32m     <a href='vscode-notebook-cell:/c%3A/Users/misla/Documents/Bootcamp/Profesor/HLF/practical_reinforcement/hlf_ia/pruebas_multiverse.ipynb#X46sZmlsZQ%3D%3D?line=14'>15</a>\u001b[0m         \u001b[39mbreak\u001b[39;00m\n\u001b[0;32m     <a href='vscode-notebook-cell:/c%3A/Users/misla/Documents/Bootcamp/Profesor/HLF/practical_reinforcement/hlf_ia/pruebas_multiverse.ipynb#X46sZmlsZQ%3D%3D?line=15'>16</a>\u001b[0m     i \u001b[39m-\u001b[39m\u001b[39m=\u001b[39m \u001b[39m1\u001b[39m\n",
      "\u001b[1;31mIndexError\u001b[0m: string index out of range"
     ]
    }
   ],
   "source": [
    "def reverse(s):\n",
    "    return s[::-1]\n",
    "\n",
    "def next_palindrome(N):\n",
    "    if len(N) <= 3:\n",
    "        return\n",
    "    \n",
    "    first_half = N[:len(N) // 2]\n",
    "    mid_char = '' if len(N) % 2 == 0 else N[len(N) // 2]\n",
    "    \n",
    "    # Step 1: Find inversion\n",
    "    i = len(first_half) - 1\n",
    "    while i >= 0:\n",
    "        if first_half[i] < first_half[i + 1]:\n",
    "            break\n",
    "        i -= 1\n",
    "    \n",
    "    # Check if we found a valid inversion\n",
    "    if i < 0:\n",
    "        return\n",
    "    \n",
    "    # Step 2: Find suitable replacement\n",
    "    smallest = i + 1\n",
    "    for j in range(i + 2, len(first_half)):\n",
    "        if first_half[j] > first_half[i] and first_half[j] <= first_half[smallest]:\n",
    "            smallest = j\n",
    "    \n",
    "    # Step 3: Swap and mirror\n",
    "    first_half_list = list(first_half)\n",
    "    first_half_list[i], first_half_list[smallest] = first_half_list[smallest], first_half_list[i]\n",
    "    first_half_list[i + 1:] = reverse(first_half_list[i + 1:])\n",
    "    \n",
    "    first_half = ''.join(first_half_list)\n",
    "    \n",
    "    second_half = reverse(first_half)\n",
    "    \n",
    "    answer = first_half\n",
    "    if mid_char:\n",
    "        answer += mid_char  # Add the missing mid character\n",
    "    \n",
    "    answer += second_half\n",
    "    \n",
    "    print(\"Next Palindrome:\", answer)\n",
    "\n",
    "# Example usage:\n",
    "N = \"4756996574\"\n",
    "next_palindrome(N)\n"
   ]
  },
  {
   "cell_type": "code",
   "execution_count": 114,
   "metadata": {},
   "outputs": [
    {
     "ename": "IndexError",
     "evalue": "string index out of range",
     "output_type": "error",
     "traceback": [
      "\u001b[1;31m---------------------------------------------------------------------------\u001b[0m",
      "\u001b[1;31mIndexError\u001b[0m                                Traceback (most recent call last)",
      "\u001b[1;32mc:\\Users\\misla\\Documents\\Bootcamp\\Profesor\\HLF\\practical_reinforcement\\hlf_ia\\pruebas_multiverse.ipynb Cell 11\u001b[0m line \u001b[0;36m4\n\u001b[0;32m     <a href='vscode-notebook-cell:/c%3A/Users/misla/Documents/Bootcamp/Profesor/HLF/practical_reinforcement/hlf_ia/pruebas_multiverse.ipynb#X50sZmlsZQ%3D%3D?line=44'>45</a>\u001b[0m \u001b[39m# Example usage:\u001b[39;00m\n\u001b[0;32m     <a href='vscode-notebook-cell:/c%3A/Users/misla/Documents/Bootcamp/Profesor/HLF/practical_reinforcement/hlf_ia/pruebas_multiverse.ipynb#X50sZmlsZQ%3D%3D?line=45'>46</a>\u001b[0m N \u001b[39m=\u001b[39m \u001b[39m\"\u001b[39m\u001b[39m4756996574\u001b[39m\u001b[39m\"\u001b[39m\n\u001b[1;32m---> <a href='vscode-notebook-cell:/c%3A/Users/misla/Documents/Bootcamp/Profesor/HLF/practical_reinforcement/hlf_ia/pruebas_multiverse.ipynb#X50sZmlsZQ%3D%3D?line=46'>47</a>\u001b[0m next_palindrome(N)\n",
      "\u001b[1;32mc:\\Users\\misla\\Documents\\Bootcamp\\Profesor\\HLF\\practical_reinforcement\\hlf_ia\\pruebas_multiverse.ipynb Cell 11\u001b[0m line \u001b[0;36m1\n\u001b[0;32m     <a href='vscode-notebook-cell:/c%3A/Users/misla/Documents/Bootcamp/Profesor/HLF/practical_reinforcement/hlf_ia/pruebas_multiverse.ipynb#X50sZmlsZQ%3D%3D?line=11'>12</a>\u001b[0m i \u001b[39m=\u001b[39m \u001b[39mlen\u001b[39m(first_half) \u001b[39m-\u001b[39m \u001b[39m1\u001b[39m\n\u001b[0;32m     <a href='vscode-notebook-cell:/c%3A/Users/misla/Documents/Bootcamp/Profesor/HLF/practical_reinforcement/hlf_ia/pruebas_multiverse.ipynb#X50sZmlsZQ%3D%3D?line=12'>13</a>\u001b[0m \u001b[39mwhile\u001b[39;00m i \u001b[39m>\u001b[39m\u001b[39m=\u001b[39m \u001b[39m0\u001b[39m:\n\u001b[1;32m---> <a href='vscode-notebook-cell:/c%3A/Users/misla/Documents/Bootcamp/Profesor/HLF/practical_reinforcement/hlf_ia/pruebas_multiverse.ipynb#X50sZmlsZQ%3D%3D?line=13'>14</a>\u001b[0m     \u001b[39mif\u001b[39;00m first_half[i] \u001b[39m<\u001b[39m first_half[i \u001b[39m+\u001b[39;49m \u001b[39m1\u001b[39;49m]:\n\u001b[0;32m     <a href='vscode-notebook-cell:/c%3A/Users/misla/Documents/Bootcamp/Profesor/HLF/practical_reinforcement/hlf_ia/pruebas_multiverse.ipynb#X50sZmlsZQ%3D%3D?line=14'>15</a>\u001b[0m         \u001b[39mbreak\u001b[39;00m\n\u001b[0;32m     <a href='vscode-notebook-cell:/c%3A/Users/misla/Documents/Bootcamp/Profesor/HLF/practical_reinforcement/hlf_ia/pruebas_multiverse.ipynb#X50sZmlsZQ%3D%3D?line=15'>16</a>\u001b[0m     i \u001b[39m-\u001b[39m\u001b[39m=\u001b[39m \u001b[39m1\u001b[39m\n",
      "\u001b[1;31mIndexError\u001b[0m: string index out of range"
     ]
    }
   ],
   "source": [
    "def reverse(s):\n",
    "    return s[::-1]\n",
    "\n",
    "def next_palindrome(N):\n",
    "    if len(N) <= 3:\n",
    "        return\n",
    "\n",
    "    first_half = N[:len(N) // 2]\n",
    "    mid_char = '' if len(N) % 2 == 0 else N[len(N) // 2]\n",
    "\n",
    "    # Step 1: Find inversion\n",
    "    i = len(first_half) - 1\n",
    "    while i >= 0:\n",
    "        if first_half[i] < first_half[i + 1]:\n",
    "            break\n",
    "        i -= 1\n",
    "\n",
    "    # Check if we found a valid inversion\n",
    "    if i < 0:\n",
    "        return\n",
    "\n",
    "    # Step 2: Find suitable replacement\n",
    "    smallest = i + 1\n",
    "    for j in range(i + 2, len(first_half)):\n",
    "        if first_half[j] > first_half[i] and first_half[j] <= first_half[smallest]:\n",
    "            smallest = j\n",
    "\n",
    "    # Step 3: Swap and mirror\n",
    "    first_half_list = list(first_half)\n",
    "    first_half_list[i], first_half_list[smallest] = first_half_list[smallest], first_half_list[i]\n",
    "    first_half_list[i + 1:] = reverse(first_half_list[i + 1:])\n",
    "\n",
    "    first_half = ''.join(first_half_list)\n",
    "\n",
    "    second_half = reverse(first_half)\n",
    "\n",
    "    answer = first_half\n",
    "    if mid_char:\n",
    "        answer += mid_char  # Add the missing mid character\n",
    "\n",
    "    answer += second_half\n",
    "\n",
    "    print(\"Next Palindrome:\", answer)\n",
    "\n",
    "# Example usage:\n",
    "N = \"4756996574\"\n",
    "next_palindrome(N)\n"
   ]
  },
  {
   "cell_type": "code",
   "execution_count": 115,
   "metadata": {},
   "outputs": [
    {
     "ename": "IndexError",
     "evalue": "string index out of range",
     "output_type": "error",
     "traceback": [
      "\u001b[1;31m---------------------------------------------------------------------------\u001b[0m",
      "\u001b[1;31mIndexError\u001b[0m                                Traceback (most recent call last)",
      "\u001b[1;32mc:\\Users\\misla\\Documents\\Bootcamp\\Profesor\\HLF\\practical_reinforcement\\hlf_ia\\pruebas_multiverse.ipynb Cell 12\u001b[0m line \u001b[0;36m4\n\u001b[0;32m     <a href='vscode-notebook-cell:/c%3A/Users/misla/Documents/Bootcamp/Profesor/HLF/practical_reinforcement/hlf_ia/pruebas_multiverse.ipynb#X51sZmlsZQ%3D%3D?line=41'>42</a>\u001b[0m \u001b[39m# Example usage:\u001b[39;00m\n\u001b[0;32m     <a href='vscode-notebook-cell:/c%3A/Users/misla/Documents/Bootcamp/Profesor/HLF/practical_reinforcement/hlf_ia/pruebas_multiverse.ipynb#X51sZmlsZQ%3D%3D?line=42'>43</a>\u001b[0m N \u001b[39m=\u001b[39m \u001b[39m\"\u001b[39m\u001b[39m4756996574\u001b[39m\u001b[39m\"\u001b[39m\n\u001b[1;32m---> <a href='vscode-notebook-cell:/c%3A/Users/misla/Documents/Bootcamp/Profesor/HLF/practical_reinforcement/hlf_ia/pruebas_multiverse.ipynb#X51sZmlsZQ%3D%3D?line=43'>44</a>\u001b[0m next_palindrome(N)\n",
      "\u001b[1;32mc:\\Users\\misla\\Documents\\Bootcamp\\Profesor\\HLF\\practical_reinforcement\\hlf_ia\\pruebas_multiverse.ipynb Cell 12\u001b[0m line \u001b[0;36m1\n\u001b[0;32m      <a href='vscode-notebook-cell:/c%3A/Users/misla/Documents/Bootcamp/Profesor/HLF/practical_reinforcement/hlf_ia/pruebas_multiverse.ipynb#X51sZmlsZQ%3D%3D?line=8'>9</a>\u001b[0m i \u001b[39m=\u001b[39m \u001b[39mlen\u001b[39m(first_half) \u001b[39m-\u001b[39m \u001b[39m1\u001b[39m\n\u001b[0;32m     <a href='vscode-notebook-cell:/c%3A/Users/misla/Documents/Bootcamp/Profesor/HLF/practical_reinforcement/hlf_ia/pruebas_multiverse.ipynb#X51sZmlsZQ%3D%3D?line=9'>10</a>\u001b[0m \u001b[39mwhile\u001b[39;00m i \u001b[39m>\u001b[39m\u001b[39m=\u001b[39m \u001b[39m0\u001b[39m:\n\u001b[1;32m---> <a href='vscode-notebook-cell:/c%3A/Users/misla/Documents/Bootcamp/Profesor/HLF/practical_reinforcement/hlf_ia/pruebas_multiverse.ipynb#X51sZmlsZQ%3D%3D?line=10'>11</a>\u001b[0m     \u001b[39mif\u001b[39;00m first_half[i] \u001b[39m<\u001b[39m first_half[i \u001b[39m+\u001b[39;49m \u001b[39m1\u001b[39;49m]:\n\u001b[0;32m     <a href='vscode-notebook-cell:/c%3A/Users/misla/Documents/Bootcamp/Profesor/HLF/practical_reinforcement/hlf_ia/pruebas_multiverse.ipynb#X51sZmlsZQ%3D%3D?line=11'>12</a>\u001b[0m         \u001b[39mbreak\u001b[39;00m\n\u001b[0;32m     <a href='vscode-notebook-cell:/c%3A/Users/misla/Documents/Bootcamp/Profesor/HLF/practical_reinforcement/hlf_ia/pruebas_multiverse.ipynb#X51sZmlsZQ%3D%3D?line=12'>13</a>\u001b[0m     i \u001b[39m-\u001b[39m\u001b[39m=\u001b[39m \u001b[39m1\u001b[39m\n",
      "\u001b[1;31mIndexError\u001b[0m: string index out of range"
     ]
    }
   ],
   "source": [
    "def reverse(s):\n",
    "    return s[::-1]\n",
    "\n",
    "def next_palindrome(N):\n",
    "    first_half = N[:len(N) // 2]\n",
    "    mid_char = '' if len(N) % 2 == 0 else N[len(N) // 2]\n",
    "\n",
    "    # Step 1: Find inversion\n",
    "    i = len(first_half) - 1\n",
    "    while i >= 0:\n",
    "        if first_half[i] < first_half[i + 1]:\n",
    "            break\n",
    "        i -= 1\n",
    "\n",
    "    # Check if we found a valid inversion\n",
    "    if i < 0:\n",
    "        return\n",
    "\n",
    "    # Step 2: Find suitable replacement\n",
    "    smallest = i + 1\n",
    "    for j in range(i + 2, len(first_half)):\n",
    "        if first_half[j] > first_half[i] and first_half[j] <= first_half[smallest]:\n",
    "            smallest = j\n",
    "\n",
    "    # Step 3: Swap and mirror\n",
    "    first_half_list = list(first_half)\n",
    "    first_half_list[i], first_half_list[smallest] = first_half_list[smallest], first_half_list[i]\n",
    "    first_half_list[i + 1:] = reverse(first_half_list[i + 1:])\n",
    "\n",
    "    first_half = ''.join(first_half_list)\n",
    "\n",
    "    second_half = reverse(first_half)\n",
    "\n",
    "    answer = first_half\n",
    "    if mid_char:\n",
    "        answer += mid_char  # Add the missing mid character\n",
    "\n",
    "    answer += second_half\n",
    "\n",
    "    print(\"Next Palindrome:\", answer)\n",
    "\n",
    "# Example usage:\n",
    "N = \"4756996574\"\n",
    "next_palindrome(N)\n"
   ]
  },
  {
   "cell_type": "code",
   "execution_count": 133,
   "metadata": {},
   "outputs": [],
   "source": [
    "#make a function the get highest palindrome from a string of numbers (0-9)\n",
    "def highest_palindrome(S):\n",
    "    #convert string to list of integers\n",
    "    L = [int(i) for i in S]\n",
    "\n",
    "    #sort list\n",
    "    L.sort()\n",
    "\n",
    "    #reverse list\n",
    "    L.reverse()\n",
    "\n",
    "    #check if there is a duplicate number different to 0\n",
    "    #if there is, append to a list\n",
    "    duplicates = []\n",
    "    for i in range(len(L)):\n",
    "        if L.count(L[i]) > 1 and L[i] != 0:\n",
    "            duplicates.append(L[i])\n",
    "    \n",
    "    #if len duplicates is 0, return the higher number on L\n",
    "    if len(duplicates) == 0:\n",
    "        return L[0]\n",
    "    \n",
    "    else:\n",
    "    \n",
    "        #sort duplicates\n",
    "        duplicates.sort()\n",
    "        #reverse duplicates\n",
    "        duplicates.reverse()\n",
    "\n",
    "        #get the highest number of duplicates\n",
    "        highest_duplicate = duplicates[0]\n",
    "\n",
    "        #put in L the highest duplicate in the first position and the last position of L\n",
    "        L.remove(highest_duplicate)\n",
    "        L.remove(highest_duplicate)\n",
    "\n",
    "        L.insert(0, highest_duplicate)\n",
    "        L.append(highest_duplicate)\n",
    "\n",
    "        #if 0 in first position and last position of L, remove it and keep the highest number of L\n",
    "        if L[0] == 0 and L[-1] == 0:\n",
    "            L = L[1]\n",
    "\n",
    "        transformed = [str(i) for i in L]\n",
    "        return int(''.join(transformed))\n",
    "\n",
    "\n"
   ]
  },
  {
   "cell_type": "code",
   "execution_count": 139,
   "metadata": {},
   "outputs": [
    {
     "data": {
      "text/plain": [
       "'5'"
      ]
     },
     "execution_count": 139,
     "metadata": {},
     "output_type": "execute_result"
    }
   ],
   "source": [
    "str(highest_palindrome(\"54321\"))"
   ]
  },
  {
   "cell_type": "code",
   "execution_count": 125,
   "metadata": {},
   "outputs": [
    {
     "data": {
      "text/plain": [
       "[2, 3, 1]"
      ]
     },
     "execution_count": 125,
     "metadata": {},
     "output_type": "execute_result"
    }
   ],
   "source": [
    "a = [1 , 2, 3, 1]\n",
    "a.remove(1)\n",
    "a"
   ]
  },
  {
   "cell_type": "code",
   "execution_count": 121,
   "metadata": {},
   "outputs": [],
   "source": [
    "[1, 2, 3].reverse()"
   ]
  },
  {
   "cell_type": "code",
   "execution_count": 122,
   "metadata": {},
   "outputs": [],
   "source": [
    "a = [1, 2, 3]\n",
    "a.reverse()"
   ]
  },
  {
   "cell_type": "code",
   "execution_count": 123,
   "metadata": {},
   "outputs": [
    {
     "data": {
      "text/plain": [
       "[3, 2, 1]"
      ]
     },
     "execution_count": 123,
     "metadata": {},
     "output_type": "execute_result"
    }
   ],
   "source": [
    "a"
   ]
  }
 ],
 "metadata": {
  "kernelspec": {
   "display_name": "Python 3",
   "language": "python",
   "name": "python3"
  },
  "language_info": {
   "codemirror_mode": {
    "name": "ipython",
    "version": 3
   },
   "file_extension": ".py",
   "mimetype": "text/x-python",
   "name": "python",
   "nbconvert_exporter": "python",
   "pygments_lexer": "ipython3",
   "version": "3.10.2"
  }
 },
 "nbformat": 4,
 "nbformat_minor": 2
}
